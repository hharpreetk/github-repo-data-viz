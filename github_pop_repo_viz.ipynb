{
 "cells": [
  {
   "cell_type": "code",
   "execution_count": 1,
   "id": "bdb23da1",
   "metadata": {},
   "outputs": [
    {
     "data": {
      "application/vnd.jupyter.widget-view+json": {
       "model_id": "139147f0a4204b0f9efdffa898011660",
       "version_major": 2,
       "version_minor": 0
      },
      "text/plain": [
       "Dropdown(description='Select Language:', options=('python', 'java', 'javascript', 'c++', 'c', 'perl', 'ruby', …"
      ]
     },
     "metadata": {},
     "output_type": "display_data"
    },
    {
     "name": "stdout",
     "output_type": "stream",
     "text": [
      "Status code: 200\n",
      "Complete results: True\n"
     ]
    },
    {
     "data": {
      "application/vnd.plotly.v1+json": {
       "config": {
        "plotlyServerURL": "https://plot.ly"
       },
       "data": [
        {
         "alignmentgroup": "True",
         "hovertemplate": "%{hovertext}",
         "hovertext": [
          "<span style='color: white; background-color: #333;'>torvalds<br />Linux kernel source tree</span>",
          "<span style='color: white; background-color: #333;'>Genymobile<br />Display and control your Andro<br />id device</span>",
          "<span style='color: white; background-color: #333;'>netdata<br />Monitor your servers, containe<br />rs, and applications, in high-<br />resolution and in real-time!</span>",
          "<span style='color: white; background-color: #333;'>redis<br />Redis is an in-memory database<br /> that persists on disk. The da<br />ta model is key-value, but man<br />y different kind of values are<br /> supported: Strings, Lists, Se<br />ts, Sorted Sets, Hashes, Strea<br />ms, HyperLogLogs, Bitmaps.</span>",
          "<span style='color: white; background-color: #333;'>ventoy<br />A new bootable USB solution.</span>",
          "<span style='color: white; background-color: #333;'>obsproject<br />OBS Studio - Free and open sou<br />rce software for live streamin<br />g and screen recording</span>",
          "<span style='color: white; background-color: #333;'>git<br />Git Source Code Mirror - This <br />is a publish-only repository b<br />ut pull requests can be turned<br /> into patches to the mailing l<br />ist via GitGitGadget (https://<br />gitgitgadget.github.io/). Plea<br />se follow Documentation/Submit<br />tingPatches procedure for any <br />of your improvements.</span>",
          "<span style='color: white; background-color: #333;'>ggerganov<br />Port of Facebook's LLaMA model<br /> in C/C++</span>",
          "<span style='color: white; background-color: #333;'>FFmpeg<br />Mirror of https://git.ffmpeg.o<br />rg/ffmpeg.git</span>",
          "<span style='color: white; background-color: #333;'>php<br />The PHP Interpreter</span>",
          "<span style='color: white; background-color: #333;'>wg<br />Modern HTTP benchmarking tool</span>",
          "<span style='color: white; background-color: #333;'>bilibili<br />Android/iOS video player based<br /> on FFmpeg n3.4, with MediaCod<br />ec, VideoToolbox support.</span>",
          "<span style='color: white; background-color: #333;'>curl<br />A command line tool and librar<br />y for transferring data with U<br />RL syntax, supporting DICT, FI<br />LE, FTP, FTPS, GOPHER, GOPHERS<br />, HTTP, HTTPS, IMAP, IMAPS, LD<br />AP, LDAPS, MQTT, POP3, POP3S, <br />RTMP, RTMPS, RTSP, SCP, SFTP, <br />SMB, SMBS, SMTP, SMTPS, TELNET<br />, TFTP, WS and WSS. libcurl of<br />fers a myriad of powerful feat<br />ures</span>",
          "<span style='color: white; background-color: #333;'>tmux<br />tmux source code</span>",
          "<span style='color: white; background-color: #333;'>coolsnowwolf<br />Lean's LEDE source</span>",
          "<span style='color: white; background-color: #333;'>jqlang<br />Command-line JSON processor</span>",
          "<span style='color: white; background-color: #333;'>cfenollosa<br />How to create an OS from scrat<br />ch</span>",
          "<span style='color: white; background-color: #333;'>ggreer<br />A code-searching tool similar <br />to ack, but faster.</span>",
          "<span style='color: white; background-color: #333;'>pjreddie<br />Convolutional Neural Networks</span>",
          "<span style='color: white; background-color: #333;'>pbatard<br />The Reliable USB Formatting Ut<br />ility</span>",
          "<span style='color: white; background-color: #333;'>emscripten-core<br />Emscripten: An LLVM-to-WebAsse<br />mbly Compiler</span>",
          "<span style='color: white; background-color: #333;'>mpv-player<br />🎥 Command line video player</span>",
          "<span style='color: white; background-color: #333;'>nothings<br />stb single-file public domain <br />libraries for C/C++</span>",
          "<span style='color: white; background-color: #333;'>openssl<br />TLS/SSL and crypto library</span>",
          "<span style='color: white; background-color: #333;'>ggerganov<br />Port of OpenAI's Whisper model<br /> in C/C++</span>",
          "<span style='color: white; background-color: #333;'>libuv<br />Cross-platform asynchronous I/<br />O</span>",
          "<span style='color: white; background-color: #333;'>taosdata<br />TDengine is an open source, hi<br />gh-performance, cloud native t<br />ime-series database optimized <br />for Internet of Things (IoT), <br />Connected Cars, Industrial IoT<br /> and DevOps.</span>",
          "<span style='color: white; background-color: #333;'>robertdavidgraham<br />TCP port scanner, spews SYN pa<br />ckets asynchronously, scanning<br /> entire Internet in under 5 mi<br />nutes.</span>",
          "<span style='color: white; background-color: #333;'>julycoding<br />本项目曾冲到全球第一，干货集锦见本页面最底部，另完整精致的纸<br />质版《编程之法：面试和算法心得》已在京东/当当上销售</span>",
          "<span style='color: white; background-color: #333;'>facebook<br />Zstandard - Fast real-time com<br />pression algorithm</span>"
         ],
         "legendgroup": "",
         "marker": {
          "color": "#1f77b4",
          "pattern": {
           "shape": ""
          }
         },
         "name": "",
         "offsetgroup": "",
         "orientation": "v",
         "showlegend": false,
         "textposition": "auto",
         "type": "bar",
         "x": [
          "linux",
          "scrcpy",
          "netdata",
          "redis",
          "Ventoy",
          "obs-studio",
          "git",
          "llama.cpp",
          "FFmpeg",
          "php-src",
          "wrk",
          "ijkplayer",
          "curl",
          "tmux",
          "lede",
          "jq",
          "os-tutorial",
          "the_silver_searcher",
          "darknet",
          "rufus",
          "emscripten",
          "mpv",
          "stb",
          "openssl",
          "whisper.cpp",
          "libuv",
          "TDengine",
          "masscan",
          "The-Art-Of-Programming-By-July-2nd",
          "zstd"
         ],
         "xaxis": "x",
         "y": [
          155997,
          89464,
          64718,
          61101,
          52074,
          49604,
          47060,
          38406,
          37823,
          35825,
          34995,
          31583,
          30954,
          30014,
          26735,
          25727,
          25413,
          25127,
          24517,
          24331,
          24126,
          23259,
          22835,
          22451,
          22076,
          22001,
          21641,
          21469,
          21014,
          20736
         ],
         "yaxis": "y"
        }
       ],
       "layout": {
        "barmode": "relative",
        "hovermode": "x",
        "legend": {
         "tracegroupgap": 0
        },
        "template": {
         "data": {
          "bar": [
           {
            "error_x": {
             "color": "#2a3f5f"
            },
            "error_y": {
             "color": "#2a3f5f"
            },
            "marker": {
             "line": {
              "color": "#E5ECF6",
              "width": 0.5
             },
             "pattern": {
              "fillmode": "overlay",
              "size": 10,
              "solidity": 0.2
             }
            },
            "type": "bar"
           }
          ],
          "barpolar": [
           {
            "marker": {
             "line": {
              "color": "#E5ECF6",
              "width": 0.5
             },
             "pattern": {
              "fillmode": "overlay",
              "size": 10,
              "solidity": 0.2
             }
            },
            "type": "barpolar"
           }
          ],
          "carpet": [
           {
            "aaxis": {
             "endlinecolor": "#2a3f5f",
             "gridcolor": "white",
             "linecolor": "white",
             "minorgridcolor": "white",
             "startlinecolor": "#2a3f5f"
            },
            "baxis": {
             "endlinecolor": "#2a3f5f",
             "gridcolor": "white",
             "linecolor": "white",
             "minorgridcolor": "white",
             "startlinecolor": "#2a3f5f"
            },
            "type": "carpet"
           }
          ],
          "choropleth": [
           {
            "colorbar": {
             "outlinewidth": 0,
             "ticks": ""
            },
            "type": "choropleth"
           }
          ],
          "contour": [
           {
            "colorbar": {
             "outlinewidth": 0,
             "ticks": ""
            },
            "colorscale": [
             [
              0,
              "#0d0887"
             ],
             [
              0.1111111111111111,
              "#46039f"
             ],
             [
              0.2222222222222222,
              "#7201a8"
             ],
             [
              0.3333333333333333,
              "#9c179e"
             ],
             [
              0.4444444444444444,
              "#bd3786"
             ],
             [
              0.5555555555555556,
              "#d8576b"
             ],
             [
              0.6666666666666666,
              "#ed7953"
             ],
             [
              0.7777777777777778,
              "#fb9f3a"
             ],
             [
              0.8888888888888888,
              "#fdca26"
             ],
             [
              1,
              "#f0f921"
             ]
            ],
            "type": "contour"
           }
          ],
          "contourcarpet": [
           {
            "colorbar": {
             "outlinewidth": 0,
             "ticks": ""
            },
            "type": "contourcarpet"
           }
          ],
          "heatmap": [
           {
            "colorbar": {
             "outlinewidth": 0,
             "ticks": ""
            },
            "colorscale": [
             [
              0,
              "#0d0887"
             ],
             [
              0.1111111111111111,
              "#46039f"
             ],
             [
              0.2222222222222222,
              "#7201a8"
             ],
             [
              0.3333333333333333,
              "#9c179e"
             ],
             [
              0.4444444444444444,
              "#bd3786"
             ],
             [
              0.5555555555555556,
              "#d8576b"
             ],
             [
              0.6666666666666666,
              "#ed7953"
             ],
             [
              0.7777777777777778,
              "#fb9f3a"
             ],
             [
              0.8888888888888888,
              "#fdca26"
             ],
             [
              1,
              "#f0f921"
             ]
            ],
            "type": "heatmap"
           }
          ],
          "heatmapgl": [
           {
            "colorbar": {
             "outlinewidth": 0,
             "ticks": ""
            },
            "colorscale": [
             [
              0,
              "#0d0887"
             ],
             [
              0.1111111111111111,
              "#46039f"
             ],
             [
              0.2222222222222222,
              "#7201a8"
             ],
             [
              0.3333333333333333,
              "#9c179e"
             ],
             [
              0.4444444444444444,
              "#bd3786"
             ],
             [
              0.5555555555555556,
              "#d8576b"
             ],
             [
              0.6666666666666666,
              "#ed7953"
             ],
             [
              0.7777777777777778,
              "#fb9f3a"
             ],
             [
              0.8888888888888888,
              "#fdca26"
             ],
             [
              1,
              "#f0f921"
             ]
            ],
            "type": "heatmapgl"
           }
          ],
          "histogram": [
           {
            "marker": {
             "pattern": {
              "fillmode": "overlay",
              "size": 10,
              "solidity": 0.2
             }
            },
            "type": "histogram"
           }
          ],
          "histogram2d": [
           {
            "colorbar": {
             "outlinewidth": 0,
             "ticks": ""
            },
            "colorscale": [
             [
              0,
              "#0d0887"
             ],
             [
              0.1111111111111111,
              "#46039f"
             ],
             [
              0.2222222222222222,
              "#7201a8"
             ],
             [
              0.3333333333333333,
              "#9c179e"
             ],
             [
              0.4444444444444444,
              "#bd3786"
             ],
             [
              0.5555555555555556,
              "#d8576b"
             ],
             [
              0.6666666666666666,
              "#ed7953"
             ],
             [
              0.7777777777777778,
              "#fb9f3a"
             ],
             [
              0.8888888888888888,
              "#fdca26"
             ],
             [
              1,
              "#f0f921"
             ]
            ],
            "type": "histogram2d"
           }
          ],
          "histogram2dcontour": [
           {
            "colorbar": {
             "outlinewidth": 0,
             "ticks": ""
            },
            "colorscale": [
             [
              0,
              "#0d0887"
             ],
             [
              0.1111111111111111,
              "#46039f"
             ],
             [
              0.2222222222222222,
              "#7201a8"
             ],
             [
              0.3333333333333333,
              "#9c179e"
             ],
             [
              0.4444444444444444,
              "#bd3786"
             ],
             [
              0.5555555555555556,
              "#d8576b"
             ],
             [
              0.6666666666666666,
              "#ed7953"
             ],
             [
              0.7777777777777778,
              "#fb9f3a"
             ],
             [
              0.8888888888888888,
              "#fdca26"
             ],
             [
              1,
              "#f0f921"
             ]
            ],
            "type": "histogram2dcontour"
           }
          ],
          "mesh3d": [
           {
            "colorbar": {
             "outlinewidth": 0,
             "ticks": ""
            },
            "type": "mesh3d"
           }
          ],
          "parcoords": [
           {
            "line": {
             "colorbar": {
              "outlinewidth": 0,
              "ticks": ""
             }
            },
            "type": "parcoords"
           }
          ],
          "pie": [
           {
            "automargin": true,
            "type": "pie"
           }
          ],
          "scatter": [
           {
            "fillpattern": {
             "fillmode": "overlay",
             "size": 10,
             "solidity": 0.2
            },
            "type": "scatter"
           }
          ],
          "scatter3d": [
           {
            "line": {
             "colorbar": {
              "outlinewidth": 0,
              "ticks": ""
             }
            },
            "marker": {
             "colorbar": {
              "outlinewidth": 0,
              "ticks": ""
             }
            },
            "type": "scatter3d"
           }
          ],
          "scattercarpet": [
           {
            "marker": {
             "colorbar": {
              "outlinewidth": 0,
              "ticks": ""
             }
            },
            "type": "scattercarpet"
           }
          ],
          "scattergeo": [
           {
            "marker": {
             "colorbar": {
              "outlinewidth": 0,
              "ticks": ""
             }
            },
            "type": "scattergeo"
           }
          ],
          "scattergl": [
           {
            "marker": {
             "colorbar": {
              "outlinewidth": 0,
              "ticks": ""
             }
            },
            "type": "scattergl"
           }
          ],
          "scattermapbox": [
           {
            "marker": {
             "colorbar": {
              "outlinewidth": 0,
              "ticks": ""
             }
            },
            "type": "scattermapbox"
           }
          ],
          "scatterpolar": [
           {
            "marker": {
             "colorbar": {
              "outlinewidth": 0,
              "ticks": ""
             }
            },
            "type": "scatterpolar"
           }
          ],
          "scatterpolargl": [
           {
            "marker": {
             "colorbar": {
              "outlinewidth": 0,
              "ticks": ""
             }
            },
            "type": "scatterpolargl"
           }
          ],
          "scatterternary": [
           {
            "marker": {
             "colorbar": {
              "outlinewidth": 0,
              "ticks": ""
             }
            },
            "type": "scatterternary"
           }
          ],
          "surface": [
           {
            "colorbar": {
             "outlinewidth": 0,
             "ticks": ""
            },
            "colorscale": [
             [
              0,
              "#0d0887"
             ],
             [
              0.1111111111111111,
              "#46039f"
             ],
             [
              0.2222222222222222,
              "#7201a8"
             ],
             [
              0.3333333333333333,
              "#9c179e"
             ],
             [
              0.4444444444444444,
              "#bd3786"
             ],
             [
              0.5555555555555556,
              "#d8576b"
             ],
             [
              0.6666666666666666,
              "#ed7953"
             ],
             [
              0.7777777777777778,
              "#fb9f3a"
             ],
             [
              0.8888888888888888,
              "#fdca26"
             ],
             [
              1,
              "#f0f921"
             ]
            ],
            "type": "surface"
           }
          ],
          "table": [
           {
            "cells": {
             "fill": {
              "color": "#EBF0F8"
             },
             "line": {
              "color": "white"
             }
            },
            "header": {
             "fill": {
              "color": "#C8D4E3"
             },
             "line": {
              "color": "white"
             }
            },
            "type": "table"
           }
          ]
         },
         "layout": {
          "annotationdefaults": {
           "arrowcolor": "#2a3f5f",
           "arrowhead": 0,
           "arrowwidth": 1
          },
          "autotypenumbers": "strict",
          "coloraxis": {
           "colorbar": {
            "outlinewidth": 0,
            "ticks": ""
           }
          },
          "colorscale": {
           "diverging": [
            [
             0,
             "#8e0152"
            ],
            [
             0.1,
             "#c51b7d"
            ],
            [
             0.2,
             "#de77ae"
            ],
            [
             0.3,
             "#f1b6da"
            ],
            [
             0.4,
             "#fde0ef"
            ],
            [
             0.5,
             "#f7f7f7"
            ],
            [
             0.6,
             "#e6f5d0"
            ],
            [
             0.7,
             "#b8e186"
            ],
            [
             0.8,
             "#7fbc41"
            ],
            [
             0.9,
             "#4d9221"
            ],
            [
             1,
             "#276419"
            ]
           ],
           "sequential": [
            [
             0,
             "#0d0887"
            ],
            [
             0.1111111111111111,
             "#46039f"
            ],
            [
             0.2222222222222222,
             "#7201a8"
            ],
            [
             0.3333333333333333,
             "#9c179e"
            ],
            [
             0.4444444444444444,
             "#bd3786"
            ],
            [
             0.5555555555555556,
             "#d8576b"
            ],
            [
             0.6666666666666666,
             "#ed7953"
            ],
            [
             0.7777777777777778,
             "#fb9f3a"
            ],
            [
             0.8888888888888888,
             "#fdca26"
            ],
            [
             1,
             "#f0f921"
            ]
           ],
           "sequentialminus": [
            [
             0,
             "#0d0887"
            ],
            [
             0.1111111111111111,
             "#46039f"
            ],
            [
             0.2222222222222222,
             "#7201a8"
            ],
            [
             0.3333333333333333,
             "#9c179e"
            ],
            [
             0.4444444444444444,
             "#bd3786"
            ],
            [
             0.5555555555555556,
             "#d8576b"
            ],
            [
             0.6666666666666666,
             "#ed7953"
            ],
            [
             0.7777777777777778,
             "#fb9f3a"
            ],
            [
             0.8888888888888888,
             "#fdca26"
            ],
            [
             1,
             "#f0f921"
            ]
           ]
          },
          "colorway": [
           "#636efa",
           "#EF553B",
           "#00cc96",
           "#ab63fa",
           "#FFA15A",
           "#19d3f3",
           "#FF6692",
           "#B6E880",
           "#FF97FF",
           "#FECB52"
          ],
          "font": {
           "color": "#2a3f5f"
          },
          "geo": {
           "bgcolor": "white",
           "lakecolor": "white",
           "landcolor": "#E5ECF6",
           "showlakes": true,
           "showland": true,
           "subunitcolor": "white"
          },
          "hoverlabel": {
           "align": "left"
          },
          "hovermode": "closest",
          "mapbox": {
           "style": "light"
          },
          "paper_bgcolor": "white",
          "plot_bgcolor": "#E5ECF6",
          "polar": {
           "angularaxis": {
            "gridcolor": "white",
            "linecolor": "white",
            "ticks": ""
           },
           "bgcolor": "#E5ECF6",
           "radialaxis": {
            "gridcolor": "white",
            "linecolor": "white",
            "ticks": ""
           }
          },
          "scene": {
           "xaxis": {
            "backgroundcolor": "#E5ECF6",
            "gridcolor": "white",
            "gridwidth": 2,
            "linecolor": "white",
            "showbackground": true,
            "ticks": "",
            "zerolinecolor": "white"
           },
           "yaxis": {
            "backgroundcolor": "#E5ECF6",
            "gridcolor": "white",
            "gridwidth": 2,
            "linecolor": "white",
            "showbackground": true,
            "ticks": "",
            "zerolinecolor": "white"
           },
           "zaxis": {
            "backgroundcolor": "#E5ECF6",
            "gridcolor": "white",
            "gridwidth": 2,
            "linecolor": "white",
            "showbackground": true,
            "ticks": "",
            "zerolinecolor": "white"
           }
          },
          "shapedefaults": {
           "line": {
            "color": "#2a3f5f"
           }
          },
          "ternary": {
           "aaxis": {
            "gridcolor": "white",
            "linecolor": "white",
            "ticks": ""
           },
           "baxis": {
            "gridcolor": "white",
            "linecolor": "white",
            "ticks": ""
           },
           "bgcolor": "#E5ECF6",
           "caxis": {
            "gridcolor": "white",
            "linecolor": "white",
            "ticks": ""
           }
          },
          "title": {
           "x": 0.05
          },
          "xaxis": {
           "automargin": true,
           "gridcolor": "white",
           "linecolor": "white",
           "ticks": "",
           "title": {
            "standoff": 15
           },
           "zerolinecolor": "white",
           "zerolinewidth": 2
          },
          "yaxis": {
           "automargin": true,
           "gridcolor": "white",
           "linecolor": "white",
           "ticks": "",
           "title": {
            "standoff": 15
           },
           "zerolinecolor": "white",
           "zerolinewidth": 2
          }
         }
        },
        "title": {
         "font": {
          "size": 28
         },
         "text": "Most-Starred C Projects on GitHub"
        },
        "xaxis": {
         "anchor": "y",
         "domain": [
          0,
          1
         ],
         "title": {
          "font": {
           "size": 20
          },
          "text": "Repository"
         }
        },
        "yaxis": {
         "anchor": "x",
         "domain": [
          0,
          1
         ],
         "title": {
          "font": {
           "size": 20
          },
          "text": "Stars"
         }
        }
       }
      }
     },
     "metadata": {},
     "output_type": "display_data"
    }
   ],
   "source": [
    "import requests\n",
    "import plotly.express as px\n",
    "import ipywidgets as widgets\n",
    "from IPython.display import display\n",
    "\n",
    "# Create a dropdown widget for language selection\n",
    "language_dropdown = widgets.Dropdown(\n",
    "    options=[\"python\", \"java\", \"javascript\", \"c++\", \"c\", \"perl\", \"ruby\", \"go\"],  # Add more languages as needed\n",
    "    value=\"python\",\n",
    "    description=\"Select Language:\",\n",
    ")\n",
    "\n",
    "display(language_dropdown)\n",
    "\n",
    "\n",
    "def on_language_change(change):\n",
    "    selected_language = change.new\n",
    "\n",
    "    # Make an API call based on the selected language\n",
    "    url = f\"https://api.github.com/search/repositories?q=language:{selected_language}+sort:stars+stars:>10000\"\n",
    "    headers = {\"Accept\": \"application/vnd.github.v3+json\"}\n",
    "    r = requests.get(url, headers=headers)\n",
    "    print(f\"Status code: {r.status_code}\")\n",
    "\n",
    "    # Convert the response object to a dictionary.\n",
    "    response_dict = r.json()\n",
    "    print(f\"Complete results: {not response_dict['incomplete_results']}\")\n",
    "\n",
    "    # Process repository information.\n",
    "    repo_dicts = response_dict[\"items\"]\n",
    "    repo_names, stars, hover_texts = [], [], []\n",
    "    for repo_dict in repo_dicts:\n",
    "        repo_names.append(repo_dict[\"name\"])\n",
    "        stars.append(repo_dict[\"stargazers_count\"])\n",
    "\n",
    "        # Build hover texts.\n",
    "        owner = repo_dict[\"owner\"][\"login\"]\n",
    "        description = repo_dict[\"description\"]\n",
    "\n",
    "        # Wrap description in hover text\n",
    "        hover_text = f\"<span style='color: white; background-color: #333;'>{owner}<br />{'<br />'.join(description[i:i+30] for i in range(0, len(description), 30))}</span>\"\n",
    "        hover_texts.append(hover_text)\n",
    "\n",
    "    # Make visualization.\n",
    "    title = f\"Most-Starred {selected_language.capitalize()} Projects on GitHub\"\n",
    "    labels = {\"x\": \"Repository\", \"y\": \"Stars\"}\n",
    "    color_palette = [\n",
    "        \"#1f77b4\",\n",
    "        \"#ff7f0e\",\n",
    "        \"#2ca02c\",\n",
    "        \"#d62728\",\n",
    "        \"#9467bd\",\n",
    "        \"#8c564b\",\n",
    "        \"#e377c2\",\n",
    "        \"#7f7f7f\",\n",
    "        \"#bcbd22\",\n",
    "        \"#17becf\",\n",
    "    ]\n",
    "    fig = px.bar(\n",
    "        x=repo_names,\n",
    "        y=stars,\n",
    "        title=title,\n",
    "        labels=labels,\n",
    "        hover_name=hover_texts,\n",
    "        color_discrete_sequence=color_palette,\n",
    "    )\n",
    "\n",
    "    fig.update_layout(\n",
    "        title_font_size=28,\n",
    "        xaxis_title_font_size=20,\n",
    "        yaxis_title_font_size=20,\n",
    "        hovermode=\"x\",\n",
    "    )\n",
    "\n",
    "    # Custom tooltip formatting\n",
    "    fig.update_traces(hovertemplate=\"%{hovertext}\")\n",
    "\n",
    "    fig.show()\n",
    "\n",
    "\n",
    "# Register the event handler for language dropdown change\n",
    "language_dropdown.observe(on_language_change, names=\"value\")"
   ]
  }
 ],
 "metadata": {
  "kernelspec": {
   "display_name": "Python 3 (ipykernel)",
   "language": "python",
   "name": "python3"
  },
  "language_info": {
   "codemirror_mode": {
    "name": "ipython",
    "version": 3
   },
   "file_extension": ".py",
   "mimetype": "text/x-python",
   "name": "python",
   "nbconvert_exporter": "python",
   "pygments_lexer": "ipython3",
   "version": "3.11.4"
  }
 },
 "nbformat": 4,
 "nbformat_minor": 5
}
